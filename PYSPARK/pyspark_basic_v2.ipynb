{
 "cells": [
  {
   "cell_type": "code",
   "execution_count": 1,
   "metadata": {},
   "outputs": [],
   "source": [
    "# Pyspark dataframes\n",
    "# filter operations\n",
    "# &,|.==.\n",
    "# ~\n"
   ]
  },
  {
   "cell_type": "code",
   "execution_count": 2,
   "metadata": {},
   "outputs": [],
   "source": [
    "from pyspark.sql import SparkSession\n",
    "spark = SparkSession.builder.appName(\"dataframe\").getOrCreate()"
   ]
  },
  {
   "cell_type": "code",
   "execution_count": 3,
   "metadata": {},
   "outputs": [
    {
     "name": "stdout",
     "output_type": "stream",
     "text": [
      "+-------+----+----------+\n",
      "|   NAME| AGE|EXPERIENCE|\n",
      "+-------+----+----------+\n",
      "| Swapil|  27|       1.0|\n",
      "|Neelesh|  28|       2.0|\n",
      "|  Sukhi|  27|       3.0|\n",
      "| Aditya|  26|      NULL|\n",
      "|   NULL|  28|       4.0|\n",
      "|   NULL|  35|       2.0|\n",
      "|  Rohit|NULL|       4.0|\n",
      "+-------+----+----------+\n",
      "\n"
     ]
    }
   ],
   "source": [
    "df_pyspark = spark.read.csv('basic_data.csv', header=True, inferSchema=True)\n",
    "df_pyspark.show()"
   ]
  },
  {
   "cell_type": "code",
   "execution_count": 6,
   "metadata": {},
   "outputs": [],
   "source": [
    "### Filter operations"
   ]
  },
  {
   "cell_type": "code",
   "execution_count": 9,
   "metadata": {},
   "outputs": [
    {
     "name": "stdout",
     "output_type": "stream",
     "text": [
      "+-------+----+\n",
      "|   Name| Age|\n",
      "+-------+----+\n",
      "|Neelesh|  28|\n",
      "|  Sukhi|  27|\n",
      "|   NULL|  28|\n",
      "|   NULL|  35|\n",
      "|  Rohit|NULL|\n",
      "+-------+----+\n",
      "\n"
     ]
    }
   ],
   "source": [
    "df_pyspark.filter(\"Experience>=2\").select(['Name','Age']).show()"
   ]
  },
  {
   "cell_type": "code",
   "execution_count": 11,
   "metadata": {},
   "outputs": [
    {
     "name": "stdout",
     "output_type": "stream",
     "text": [
      "+-------+---+----------+\n",
      "|   NAME|AGE|EXPERIENCE|\n",
      "+-------+---+----------+\n",
      "|Neelesh| 28|       2.0|\n",
      "|  Sukhi| 27|       3.0|\n",
      "|   NULL| 35|       2.0|\n",
      "+-------+---+----------+\n",
      "\n"
     ]
    }
   ],
   "source": [
    "# two diff conditions\n",
    "df_pyspark.filter((df_pyspark[\"Experience\"]>=2) & (df_pyspark[\"EXPERIENCE\"]<=3  )).show()\n"
   ]
  },
  {
   "cell_type": "code",
   "execution_count": 13,
   "metadata": {},
   "outputs": [
    {
     "name": "stdout",
     "output_type": "stream",
     "text": [
      "+-------+---+----------+\n",
      "|   NAME|AGE|EXPERIENCE|\n",
      "+-------+---+----------+\n",
      "| Swapil| 27|       1.0|\n",
      "|Neelesh| 28|       2.0|\n",
      "|   NULL| 35|       2.0|\n",
      "+-------+---+----------+\n",
      "\n"
     ]
    }
   ],
   "source": [
    "df_pyspark.filter(~(df_pyspark['EXPERIENCE']>=3)).show()"
   ]
  },
  {
   "cell_type": "code",
   "execution_count": 14,
   "metadata": {},
   "outputs": [],
   "source": [
    "# aggregate function"
   ]
  },
  {
   "cell_type": "code",
   "execution_count": 16,
   "metadata": {},
   "outputs": [
    {
     "name": "stdout",
     "output_type": "stream",
     "text": [
      "+---------+-------------+------+\n",
      "|     Name|   Department|salary|\n",
      "+---------+-------------+------+\n",
      "|    krish| Data Science| 10000|\n",
      "|    krish|          IOT|  5000|\n",
      "|   Mahesh|     Big Data|  4000|\n",
      "|    krish|     Big Data|  4000|\n",
      "|   Mahesh| Data Science|  3000|\n",
      "|Sudhanshu| Data Science| 20000|\n",
      "|Sudhanshu|          IOT| 10000|\n",
      "|Sudhanshu|     Big Data|  5000|\n",
      "+---------+-------------+------+\n",
      "\n"
     ]
    }
   ],
   "source": [
    "df_pyspark2 = spark.read.csv('basic_data2.csv', header=True, inferSchema=True)\n",
    "df_pyspark2.show()"
   ]
  },
  {
   "cell_type": "code",
   "execution_count": 18,
   "metadata": {},
   "outputs": [
    {
     "name": "stdout",
     "output_type": "stream",
     "text": [
      "root\n",
      " |-- Name: string (nullable = true)\n",
      " |-- Department: string (nullable = true)\n",
      " |-- salary: integer (nullable = true)\n",
      "\n"
     ]
    }
   ],
   "source": [
    "df_pyspark2.printSchema()"
   ]
  },
  {
   "cell_type": "code",
   "execution_count": 20,
   "metadata": {},
   "outputs": [
    {
     "name": "stdout",
     "output_type": "stream",
     "text": [
      "+---------+-----------+\n",
      "|     Name|sum(salary)|\n",
      "+---------+-----------+\n",
      "|Sudhanshu|      35000|\n",
      "|    krish|      19000|\n",
      "|   Mahesh|       7000|\n",
      "+---------+-----------+\n",
      "\n"
     ]
    }
   ],
   "source": [
    "# groupby\n",
    "# group to find max salary\n",
    "df_pyspark2.groupBy('Name').sum().show()"
   ]
  },
  {
   "cell_type": "code",
   "execution_count": 25,
   "metadata": {},
   "outputs": [
    {
     "name": "stdout",
     "output_type": "stream",
     "text": [
      "+-------------+-----+\n",
      "|   Department|count|\n",
      "+-------------+-----+\n",
      "|          IOT|    2|\n",
      "| Data Science|    1|\n",
      "|     Big Data|    3|\n",
      "| Data Science|    2|\n",
      "+-------------+-----+\n",
      "\n"
     ]
    }
   ],
   "source": [
    "# group for max salary based on department\n",
    "df_pyspark2.groupBy('Department').count().show()"
   ]
  },
  {
   "cell_type": "code",
   "execution_count": 29,
   "metadata": {},
   "outputs": [
    {
     "name": "stdout",
     "output_type": "stream",
     "text": [
      "+-----------+\n",
      "|sum(Salary)|\n",
      "+-----------+\n",
      "|      61000|\n",
      "+-----------+\n",
      "\n"
     ]
    }
   ],
   "source": [
    "# directly applying aggregate functions\n",
    "df_pyspark2.agg({'Salary':'sum'}).show()"
   ]
  },
  {
   "cell_type": "code",
   "execution_count": null,
   "metadata": {},
   "outputs": [],
   "source": []
  }
 ],
 "metadata": {
  "kernelspec": {
   "display_name": "base",
   "language": "python",
   "name": "python3"
  },
  "language_info": {
   "codemirror_mode": {
    "name": "ipython",
    "version": 3
   },
   "file_extension": ".py",
   "mimetype": "text/x-python",
   "name": "python",
   "nbconvert_exporter": "python",
   "pygments_lexer": "ipython3",
   "version": "3.9.7"
  }
 },
 "nbformat": 4,
 "nbformat_minor": 2
}
